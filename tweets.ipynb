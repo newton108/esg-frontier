{
 "cells": [
  {
   "cell_type": "code",
   "execution_count": 91,
   "metadata": {},
   "outputs": [],
   "source": [
    "import numpy as np\n",
    "import pandas as pd\n",
    "import seaborn as sns\n",
    "\n",
    "import spacy\n",
    "from tqdm import tqdm\n"
   ]
  },
  {
   "cell_type": "markdown",
   "metadata": {},
   "source": [
    "# Imports cleaned tweets data"
   ]
  },
  {
   "cell_type": "code",
   "execution_count": 92,
   "metadata": {},
   "outputs": [],
   "source": [
    "df_tickers_dow = pd.read_csv(\"data/tickers_dow.csv\")\n",
    "df_tickers_sp_100 = pd.read_csv(\"data/tickers_sp_100.csv\")\n",
    "\n",
    "df_tickers = pd.concat([df_tickers_dow, df_tickers_sp_100])\n",
    "\n",
    "id2ticker = dict(zip(df_tickers.user_id, df_tickers.ticker))"
   ]
  },
  {
   "cell_type": "code",
   "execution_count": 93,
   "metadata": {},
   "outputs": [
    {
     "name": "stdout",
     "output_type": "stream",
     "text": [
      "<class 'pandas.core.frame.DataFrame'>\n",
      "RangeIndex: 186204 entries, 0 to 186203\n",
      "Data columns (total 5 columns):\n",
      " #   Column     Non-Null Count   Dtype              \n",
      "---  ------     --------------   -----              \n",
      " 0   id         186204 non-null  Int64              \n",
      " 1   author_id  186204 non-null  Int64              \n",
      " 2   text       186204 non-null  string             \n",
      " 3   time       186204 non-null  datetime64[ns, UTC]\n",
      " 4   ticker     186204 non-null  object             \n",
      "dtypes: Int64(2), datetime64[ns, UTC](1), object(1), string(1)\n",
      "memory usage: 7.5+ MB\n"
     ]
    }
   ],
   "source": [
    "df_tweets = pd.read_csv('data/tweets_dow.csv', parse_dates=['created_at'], dtype={'id':'Int64', 'text':'string', 'author_id':'Int64'})\n",
    "\n",
    "df_tweets.rename(columns={'created_at':'time'}, inplace=True)\n",
    "df_tweets['ticker'] = df_tweets['author_id'].map(id2ticker)\n",
    "df_tweets.info()"
   ]
  },
  {
   "cell_type": "code",
   "execution_count": 94,
   "metadata": {},
   "outputs": [
    {
     "data": {
      "text/html": [
       "<div>\n",
       "<style scoped>\n",
       "    .dataframe tbody tr th:only-of-type {\n",
       "        vertical-align: middle;\n",
       "    }\n",
       "\n",
       "    .dataframe tbody tr th {\n",
       "        vertical-align: top;\n",
       "    }\n",
       "\n",
       "    .dataframe thead th {\n",
       "        text-align: right;\n",
       "    }\n",
       "</style>\n",
       "<table border=\"1\" class=\"dataframe\">\n",
       "  <thead>\n",
       "    <tr style=\"text-align: right;\">\n",
       "      <th></th>\n",
       "      <th>id</th>\n",
       "      <th>author_id</th>\n",
       "      <th>text</th>\n",
       "      <th>time</th>\n",
       "      <th>ticker</th>\n",
       "    </tr>\n",
       "  </thead>\n",
       "  <tbody>\n",
       "    <tr>\n",
       "      <th>0</th>\n",
       "      <td>1530202298017890306</td>\n",
       "      <td>21021891</td>\n",
       "      <td>We're excited to announce we have sanctioned the Ballymore project in the deepwater U.S. Gulf of Mexico. This low-cost tieback project is expected to add up to 75,000 barrels per day of oil production to help meet US demand.</td>\n",
       "      <td>2022-05-27 15:00:32+00:00</td>\n",
       "      <td>CVX</td>\n",
       "    </tr>\n",
       "    <tr>\n",
       "      <th>1</th>\n",
       "      <td>1530201208312438790</td>\n",
       "      <td>21021891</td>\n",
       "      <td>Chevron's US Permian Basin operation sites are approximately two-thirds less carbon-intensive than the global average. As part of a larger effort to help offset rising energy demands and lower carbon emissions, we are increasing production in the Permian Basin by over 15%.</td>\n",
       "      <td>2022-05-27 14:56:12+00:00</td>\n",
       "      <td>CVX</td>\n",
       "    </tr>\n",
       "    <tr>\n",
       "      <th>2</th>\n",
       "      <td>1529833838020644864</td>\n",
       "      <td>21021891</td>\n",
       "      <td>We have identified nearly 100 GHG abatement projects to reduce the carbon intensity of our operations, and expect them to deliver approximately 4 million tonnes of emissions reductions per year when completed.\n",
       "\n",
       "Read on in our Corporate Sustainability Report.</td>\n",
       "      <td>2022-05-26 14:36:24+00:00</td>\n",
       "      <td>CVX</td>\n",
       "    </tr>\n",
       "    <tr>\n",
       "      <th>3</th>\n",
       "      <td>1529537844171227136</td>\n",
       "      <td>21021891</td>\n",
       "      <td>We’ve identified nearly 100 GHG-abatement projects that are expected to deliver approximately 4M tonnes of emissions reductions per year. Learn more in our Corporate Sustainability Report: https://t.co/dLmfU8ibNC https://t.co/9QzRij2PuP</td>\n",
       "      <td>2022-05-25 19:00:14+00:00</td>\n",
       "      <td>CVX</td>\n",
       "    </tr>\n",
       "    <tr>\n",
       "      <th>4</th>\n",
       "      <td>1527752758337540096</td>\n",
       "      <td>21021891</td>\n",
       "      <td>RT @ftlive: Decarbonising an industry in recovery: Mark Nelson tells us what he sees on the horizon for sustainable aviation fuel. Mark wil…</td>\n",
       "      <td>2022-05-20 20:46:56+00:00</td>\n",
       "      <td>CVX</td>\n",
       "    </tr>\n",
       "  </tbody>\n",
       "</table>\n",
       "</div>"
      ],
      "text/plain": [
       "                    id  author_id  \\\n",
       "0  1530202298017890306   21021891   \n",
       "1  1530201208312438790   21021891   \n",
       "2  1529833838020644864   21021891   \n",
       "3  1529537844171227136   21021891   \n",
       "4  1527752758337540096   21021891   \n",
       "\n",
       "                                                                                                                                                                                                                                                                                text  \\\n",
       "0                                                   We're excited to announce we have sanctioned the Ballymore project in the deepwater U.S. Gulf of Mexico. This low-cost tieback project is expected to add up to 75,000 barrels per day of oil production to help meet US demand.   \n",
       "1  Chevron's US Permian Basin operation sites are approximately two-thirds less carbon-intensive than the global average. As part of a larger effort to help offset rising energy demands and lower carbon emissions, we are increasing production in the Permian Basin by over 15%.   \n",
       "2                 We have identified nearly 100 GHG abatement projects to reduce the carbon intensity of our operations, and expect them to deliver approximately 4 million tonnes of emissions reductions per year when completed.\n",
       "\n",
       "Read on in our Corporate Sustainability Report.   \n",
       "3                                       We’ve identified nearly 100 GHG-abatement projects that are expected to deliver approximately 4M tonnes of emissions reductions per year. Learn more in our Corporate Sustainability Report: https://t.co/dLmfU8ibNC https://t.co/9QzRij2PuP   \n",
       "4                                                                                                                                       RT @ftlive: Decarbonising an industry in recovery: Mark Nelson tells us what he sees on the horizon for sustainable aviation fuel. Mark wil…   \n",
       "\n",
       "                       time ticker  \n",
       "0 2022-05-27 15:00:32+00:00    CVX  \n",
       "1 2022-05-27 14:56:12+00:00    CVX  \n",
       "2 2022-05-26 14:36:24+00:00    CVX  \n",
       "3 2022-05-25 19:00:14+00:00    CVX  \n",
       "4 2022-05-20 20:46:56+00:00    CVX  "
      ]
     },
     "execution_count": 94,
     "metadata": {},
     "output_type": "execute_result"
    }
   ],
   "source": [
    "df_tweets.head()"
   ]
  },
  {
   "cell_type": "markdown",
   "metadata": {},
   "source": [
    "# Classify tweets from trained model\n",
    "\n",
    "- Add column `pred_score` to `df_tweets`"
   ]
  },
  {
   "cell_type": "code",
   "execution_count": 95,
   "metadata": {},
   "outputs": [],
   "source": [
    "nlp = spacy.load(\"./output/model-best\")"
   ]
  },
  {
   "cell_type": "code",
   "execution_count": 96,
   "metadata": {},
   "outputs": [],
   "source": [
    "data = tuple(zip(df_tweets.text.tolist(), df_tweets.index))"
   ]
  },
  {
   "cell_type": "code",
   "execution_count": 97,
   "metadata": {},
   "outputs": [
    {
     "name": "stderr",
     "output_type": "stream",
     "text": [
      "100%|██████████| 186204/186204 [00:32<00:00, 5769.78it/s]\n"
     ]
    }
   ],
   "source": [
    "pred_score = np.zeros(len(df_tweets))\n",
    "\n",
    "for doc, i in tqdm(nlp.pipe(data, as_tuples=True), total=len(df_tweets)):\n",
    "    pred_score[i] = doc.cats['climate_related']\n",
    "\n",
    "df_tweets['pred_score'] = pred_score"
   ]
  },
  {
   "cell_type": "code",
   "execution_count": 98,
   "metadata": {},
   "outputs": [
    {
     "data": {
      "text/plain": [
       "<seaborn.axisgrid.FacetGrid at 0x7ff490e05390>"
      ]
     },
     "execution_count": 98,
     "metadata": {},
     "output_type": "execute_result"
    },
    {
     "data": {
      "image/png": "[encoded data removed]",
      "text/plain": [
       "<Figure size 360x360 with 1 Axes>"
      ]
     },
     "metadata": {
      "needs_background": "light"
     },
     "output_type": "display_data"
    }
   ],
   "source": [
    "# pred_score pooled from all twitter accounts\n",
    "\n",
    "sns.displot(df_tweets.pred_score)"
   ]
  },
  {
   "cell_type": "code",
   "execution_count": 99,
   "metadata": {},
   "outputs": [
    {
     "name": "stdout",
     "output_type": "stream",
     "text": [
      "3857\n"
     ]
    },
    {
     "data": {
      "text/html": [
       "<div>\n",
       "<style scoped>\n",
       "    .dataframe tbody tr th:only-of-type {\n",
       "        vertical-align: middle;\n",
       "    }\n",
       "\n",
       "    .dataframe tbody tr th {\n",
       "        vertical-align: top;\n",
       "    }\n",
       "\n",
       "    .dataframe thead th {\n",
       "        text-align: right;\n",
       "    }\n",
       "</style>\n",
       "<table border=\"1\" class=\"dataframe\">\n",
       "  <thead>\n",
       "    <tr style=\"text-align: right;\">\n",
       "      <th></th>\n",
       "      <th>pred_score</th>\n",
       "      <th>text</th>\n",
       "    </tr>\n",
       "  </thead>\n",
       "  <tbody>\n",
       "    <tr>\n",
       "      <th>66031</th>\n",
       "      <td>0.503393</td>\n",
       "      <td>.@IBMCloud moves to unlock billions of dollars in IT value for developers #cloud https://t.co/Jvvg1KPCxv https://t.co/XbRnrAu5Es</td>\n",
       "    </tr>\n",
       "    <tr>\n",
       "      <th>7434</th>\n",
       "      <td>0.509188</td>\n",
       "      <td>A #business plan to solve urban fresh #food scarcity. #ImprovingLives @XULA1925 https://t.co/FyqILiZMiW https://t.co/rPjo79lwHB</td>\n",
       "    </tr>\n",
       "    <tr>\n",
       "      <th>47892</th>\n",
       "      <td>0.519010</td>\n",
       "      <td>✅ Push rather than lift\n",
       "✅ Wear layers\n",
       "✅ Take frequent breaks\n",
       "✅ Do your best to stay upright https://t.co/gC2VHUtkUP</td>\n",
       "    </tr>\n",
       "    <tr>\n",
       "      <th>117340</th>\n",
       "      <td>0.519247</td>\n",
       "      <td>#CleanEnergy success: power and steam generation technology reduce GHG emissions at two of our sites in Brazil. #CWNYC #Dow2025 https://t.co/GJ9jQ18rl0</td>\n",
       "    </tr>\n",
       "    <tr>\n",
       "      <th>183651</th>\n",
       "      <td>0.528551</td>\n",
       "      <td>zzzzzz      \n",
       "    ＜⌒／ヽ-､_＿_\n",
       "／＜_/＿＿＿＿／\n",
       "\n",
       "　　　∧_∧\n",
       "　　 (　･ω･)　     Forgot to buy milk\n",
       "　 ＿|　⊃／(＿＿_\n",
       "／　└-(＿＿＿_／</td>\n",
       "    </tr>\n",
       "    <tr>\n",
       "      <th>185</th>\n",
       "      <td>0.531649</td>\n",
       "      <td>RT @OGCInews: NEWS: OGCI Climate Investments added @MetronSas, a cleantech company that uses AI technology to increase #energyefficiency, s…</td>\n",
       "    </tr>\n",
       "    <tr>\n",
       "      <th>129615</th>\n",
       "      <td>0.532063</td>\n",
       "      <td>😯 Here's a stat that will make you say, \"WOW.\" \n",
       "(It's part of a new retail report that came in just now.)\n",
       "\n",
       "📈 550 brand leaders surveyed made it clear,\n",
       "They're hiring 50% more data scientists over the next three years. https://t.co/w4jMcgNl62\n",
       "#WorldPoetryDay https://t.co/yY5YuhWRjX</td>\n",
       "    </tr>\n",
       "    <tr>\n",
       "      <th>103500</th>\n",
       "      <td>0.536366</td>\n",
       "      <td>Looking for the weekend like:\n",
       "\n",
       "🐶🦴😜 \n",
       " #FridayFeels #FurryCoworker https://t.co/Symu7H591A</td>\n",
       "    </tr>\n",
       "    <tr>\n",
       "      <th>40697</th>\n",
       "      <td>0.537731</td>\n",
       "      <td>Green power – energy storage – photovoltaics. Cat Microgrid webinar, Oct.11:  https://t.co/P92xLqjwJ5 https://t.co/m82QVdqON6</td>\n",
       "    </tr>\n",
       "    <tr>\n",
       "      <th>114332</th>\n",
       "      <td>0.538853</td>\n",
       "      <td>RT @JimFitterling: Our goal is an environment free of plastic waste, and we’re excited to be working with @MizzouEngineer and @Bill_Buttlar…</td>\n",
       "    </tr>\n",
       "    <tr>\n",
       "      <th>112075</th>\n",
       "      <td>0.547236</td>\n",
       "      <td>RT @COVERGIRL: Rock beautiful natural lashes for 24hrs with #LashBlast Active Mascara. Available at @walgreens! #IAmWhatIMakeUp #COVERGIRLC…</td>\n",
       "    </tr>\n",
       "    <tr>\n",
       "      <th>150020</th>\n",
       "      <td>0.551636</td>\n",
       "      <td>.@TeamVic: My rookie year, every time I laced up my cleats, I gave them the best of me. #BHM https://t.co/y3EgTxYfUt</td>\n",
       "    </tr>\n",
       "    <tr>\n",
       "      <th>184846</th>\n",
       "      <td>0.552663</td>\n",
       "      <td>RT @KrisFuchigami: WAL-MART UKULELE JAM SESSION!\n",
       "\n",
       "Walking around Wal-Mart and came across the ukulele section! This is where my dad bought…</td>\n",
       "    </tr>\n",
       "    <tr>\n",
       "      <th>38397</th>\n",
       "      <td>0.562255</td>\n",
       "      <td>At Caterpillar, sustainability is part of who we are and what we do every single day. Learn more about how we balance environmental stewardship, social responsibility and economic growth. https://t.co/1bnMFjCsyA https://t.co/2eCTgEGxS0</td>\n",
       "    </tr>\n",
       "    <tr>\n",
       "      <th>167602</th>\n",
       "      <td>0.566047</td>\n",
       "      <td>$GS' economists model the #Euro2016 trophy odds: France (23%) Germany (20%) Spain (14%) https://t.co/M7Wcf7NCAM</td>\n",
       "    </tr>\n",
       "    <tr>\n",
       "      <th>2156</th>\n",
       "      <td>0.569578</td>\n",
       "      <td>RT @RichmonStandard: What We Do: Refinery 101 https://t.co/xDcJiItYoa https://t.co/548zjQS7Ok</td>\n",
       "    </tr>\n",
       "    <tr>\n",
       "      <th>35769</th>\n",
       "      <td>0.589181</td>\n",
       "      <td>Cat dealer Mantrac Nigeria recently installed a 1.5mW solar power plant for Future Group Travel in Egypt resulting in a 30% reduction in their fuel consumption. Find out more about Cat Solar at https://t.co/kSLzYWKXcK. #SustainablePower https://t.co/bxTJNAsFtz</td>\n",
       "    </tr>\n",
       "    <tr>\n",
       "      <th>144330</th>\n",
       "      <td>0.591846</td>\n",
       "      <td>RT @MicrosoftEDU: .@SummerWinrotte set out to create a more equitable learning environment for all Ss. See how: https://t.co/kFB0OAUYNS #Mi…</td>\n",
       "    </tr>\n",
       "    <tr>\n",
       "      <th>179668</th>\n",
       "      <td>0.592802</td>\n",
       "      <td>RT @Model4GreenLVNG: \"On a once degraded hay farm, now stands hundreds of thousands of healthy trees.\" Check out my new blog post for some…</td>\n",
       "    </tr>\n",
       "    <tr>\n",
       "      <th>159981</th>\n",
       "      <td>0.598216</td>\n",
       "      <td>WATCH: Limiting global warming may require up to $30 trillion in clean-energy infrastructure investments by 2040. In this episode of The Long &amp;amp; Short of It, $GS Research explains how the push to curb climate change is reshaping the energy industry: https://t.co/LFxGLhDqYU https://t.co/grEp9w...</td>\n",
       "    </tr>\n",
       "  </tbody>\n",
       "</table>\n",
       "</div>"
      ],
      "text/plain": [
       "        pred_score  \\\n",
       "66031     0.503393   \n",
       "7434      0.509188   \n",
       "47892     0.519010   \n",
       "117340    0.519247   \n",
       "183651    0.528551   \n",
       "185       0.531649   \n",
       "129615    0.532063   \n",
       "103500    0.536366   \n",
       "40697     0.537731   \n",
       "114332    0.538853   \n",
       "112075    0.547236   \n",
       "150020    0.551636   \n",
       "184846    0.552663   \n",
       "38397     0.562255   \n",
       "167602    0.566047   \n",
       "2156      0.569578   \n",
       "35769     0.589181   \n",
       "144330    0.591846   \n",
       "179668    0.592802   \n",
       "159981    0.598216   \n",
       "\n",
       "                                                                                                                                                                                                                                                                                                               text  \n",
       "66031                                                                                                                                                                              .@IBMCloud moves to unlock billions of dollars in IT value for developers #cloud https://t.co/Jvvg1KPCxv https://t.co/XbRnrAu5Es  \n",
       "7434                                                                                                                                                                                A #business plan to solve urban fresh #food scarcity. #ImprovingLives @XULA1925 https://t.co/FyqILiZMiW https://t.co/rPjo79lwHB  \n",
       "47892                                                                                                                                                                                           ✅ Push rather than lift\n",
       "✅ Wear layers\n",
       "✅ Take frequent breaks\n",
       "✅ Do your best to stay upright https://t.co/gC2VHUtkUP  \n",
       "117340                                                                                                                                                      #CleanEnergy success: power and steam generation technology reduce GHG emissions at two of our sites in Brazil. #CWNYC #Dow2025 https://t.co/GJ9jQ18rl0  \n",
       "183651                                                                                                                                                                                                        zzzzzz      \n",
       "    ＜⌒／ヽ-､_＿_\n",
       "／＜_/＿＿＿＿／\n",
       "\n",
       "　　　∧_∧\n",
       "　　 (　･ω･)　     Forgot to buy milk\n",
       "　 ＿|　⊃／(＿＿_\n",
       "／　└-(＿＿＿_／  \n",
       "185                                                                                                                                                                    RT @OGCInews: NEWS: OGCI Climate Investments added @MetronSas, a cleantech company that uses AI technology to increase #energyefficiency, s…  \n",
       "129615                    😯 Here's a stat that will make you say, \"WOW.\" \n",
       "(It's part of a new retail report that came in just now.)\n",
       "\n",
       "📈 550 brand leaders surveyed made it clear,\n",
       "They're hiring 50% more data scientists over the next three years. https://t.co/w4jMcgNl62\n",
       "#WorldPoetryDay https://t.co/yY5YuhWRjX  \n",
       "103500                                                                                                                                                                                                                     Looking for the weekend like:\n",
       "\n",
       "🐶🦴😜 \n",
       " #FridayFeels #FurryCoworker https://t.co/Symu7H591A  \n",
       "40697                                                                                                                                                                                 Green power – energy storage – photovoltaics. Cat Microgrid webinar, Oct.11:  https://t.co/P92xLqjwJ5 https://t.co/m82QVdqON6  \n",
       "114332                                                                                                                                                                 RT @JimFitterling: Our goal is an environment free of plastic waste, and we’re excited to be working with @MizzouEngineer and @Bill_Buttlar…  \n",
       "112075                                                                                                                                                                 RT @COVERGIRL: Rock beautiful natural lashes for 24hrs with #LashBlast Active Mascara. Available at @walgreens! #IAmWhatIMakeUp #COVERGIRLC…  \n",
       "150020                                                                                                                                                                                         .@TeamVic: My rookie year, every time I laced up my cleats, I gave them the best of me. #BHM https://t.co/y3EgTxYfUt  \n",
       "184846                                                                                                                                                                  RT @KrisFuchigami: WAL-MART UKULELE JAM SESSION!\n",
       "\n",
       "Walking around Wal-Mart and came across the ukulele section! This is where my dad bought…  \n",
       "38397                                                                   At Caterpillar, sustainability is part of who we are and what we do every single day. Learn more about how we balance environmental stewardship, social responsibility and economic growth. https://t.co/1bnMFjCsyA https://t.co/2eCTgEGxS0  \n",
       "167602                                                                                                                                                                                              $GS' economists model the #Euro2016 trophy odds: France (23%) Germany (20%) Spain (14%) https://t.co/M7Wcf7NCAM  \n",
       "2156                                                                                                                                                                                                                  RT @RichmonStandard: What We Do: Refinery 101 https://t.co/xDcJiItYoa https://t.co/548zjQS7Ok  \n",
       "35769                                          Cat dealer Mantrac Nigeria recently installed a 1.5mW solar power plant for Future Group Travel in Egypt resulting in a 30% reduction in their fuel consumption. Find out more about Cat Solar at https://t.co/kSLzYWKXcK. #SustainablePower https://t.co/bxTJNAsFtz  \n",
       "144330                                                                                                                                                                 RT @MicrosoftEDU: .@SummerWinrotte set out to create a more equitable learning environment for all Ss. See how: https://t.co/kFB0OAUYNS #Mi…  \n",
       "179668                                                                                                                                                                  RT @Model4GreenLVNG: \"On a once degraded hay farm, now stands hundreds of thousands of healthy trees.\" Check out my new blog post for some…  \n",
       "159981  WATCH: Limiting global warming may require up to $30 trillion in clean-energy infrastructure investments by 2040. In this episode of The Long &amp; Short of It, $GS Research explains how the push to curb climate change is reshaping the energy industry: https://t.co/LFxGLhDqYU https://t.co/grEp9w...  "
      ]
     },
     "execution_count": 99,
     "metadata": {},
     "output_type": "execute_result"
    }
   ],
   "source": [
    "# show a snippet of tweets within percentile of pred_score\n",
    "\n",
    "pd.options.display.max_colwidth = 300\n",
    "\n",
    "percentile = 0.5\n",
    "\n",
    "print(len(df_tweets[['pred_score', 'text']][df_tweets.pred_score > percentile]))\n",
    "df_tweets[['pred_score', 'text']][(df_tweets.pred_score > percentile) & (df_tweets.pred_score < percentile + 0.1)].sample(20).sort_values('pred_score')"
   ]
  },
  {
   "cell_type": "code",
   "execution_count": 100,
   "metadata": {},
   "outputs": [],
   "source": [
    "def esg_score(pred_scores, slope = 60, threshold = 0.5):\n",
    "    '''\n",
    "    aggragate score by applying sigmoid, then take mean\n",
    "    input: np.array of pred_score\n",
    "    output: scaler\n",
    "    '''\n",
    "    return np.mean(1 / (1 + np.exp(-slope * (pred_scores - threshold))))"
   ]
  },
  {
   "cell_type": "code",
   "execution_count": 101,
   "metadata": {},
   "outputs": [
    {
     "name": "stderr",
     "output_type": "stream",
     "text": [
      "/Users/joe/miniconda3/envs/esg-frontier/lib/python3.10/site-packages/numpy/core/fromnumeric.py:3472: FutureWarning: In a future version, DataFrame.mean(axis=None) will return a scalar mean over the entire DataFrame. To retain the old behavior, use 'frame.mean(axis=0)' or just 'frame.mean()'\n",
      "  return mean(axis=axis, dtype=dtype, out=out, **kwargs)\n"
     ]
    }
   ],
   "source": [
    "df = df_tweets.pivot(index=['id', 'time'], columns='ticker',values='pred_score')\n",
    "\n",
    "# after pivot, df contain lots of NaN, which will be excluded after aggregate\n",
    "\n",
    "df = df.groupby(pd.Grouper(freq='M', level='time')).aggregate(esg_score, threshold = 0.52)\n"
   ]
  },
  {
   "cell_type": "code",
   "execution_count": 102,
   "metadata": {},
   "outputs": [
    {
     "data": {
      "text/plain": [
       "ticker\n",
       "AAPL    8\n",
       "NKE     6\n",
       "KO      2\n",
       "MCD     1\n",
       "AMGN    0\n",
       "WBA     0\n",
       "UNH     0\n",
       "TRV     0\n",
       "T       0\n",
       "PG      0\n",
       "MSFT    0\n",
       "MRK     0\n",
       "MMM     0\n",
       "MA      0\n",
       "JPM     0\n",
       "JNJ     0\n",
       "INTC    0\n",
       "IBM     0\n",
       "HON     0\n",
       "HD      0\n",
       "GS      0\n",
       "DOW     0\n",
       "DIS     0\n",
       "CVX     0\n",
       "CSCO    0\n",
       "CRM     0\n",
       "CAT     0\n",
       "BA      0\n",
       "AXP     0\n",
       "WMT     0\n",
       "dtype: int64"
      ]
     },
     "execution_count": 102,
     "metadata": {},
     "output_type": "execute_result"
    }
   ],
   "source": [
    "df.isnull().sum().sort_values(ascending=False)"
   ]
  },
  {
   "cell_type": "code",
   "execution_count": 103,
   "metadata": {},
   "outputs": [
    {
     "data": {
      "text/plain": [
       "ticker\n",
       "AAPL    0.000152\n",
       "KO      0.005312\n",
       "NKE     0.006384\n",
       "DIS     0.007044\n",
       "AXP     0.007973\n",
       "MA      0.008620\n",
       "INTC    0.008909\n",
       "T       0.009330\n",
       "UNH     0.010068\n",
       "WBA     0.012610\n",
       "MCD     0.012806\n",
       "JNJ     0.013636\n",
       "AMGN    0.013819\n",
       "JPM     0.015249\n",
       "MRK     0.016274\n",
       "IBM     0.016503\n",
       "HD      0.016909\n",
       "CSCO    0.019726\n",
       "TRV     0.021557\n",
       "WMT     0.022526\n",
       "MSFT    0.025292\n",
       "GS      0.027580\n",
       "CAT     0.027911\n",
       "BA      0.035596\n",
       "CRM     0.036913\n",
       "MMM     0.038952\n",
       "PG      0.040176\n",
       "HON     0.054055\n",
       "DOW     0.088521\n",
       "CVX     0.097593\n",
       "dtype: float64"
      ]
     },
     "execution_count": 103,
     "metadata": {},
     "output_type": "execute_result"
    }
   ],
   "source": [
    "df.mean().sort_values()"
   ]
  },
  {
   "cell_type": "code",
   "execution_count": 109,
   "metadata": {},
   "outputs": [
    {
     "data": {
      "text/plain": [
       "<AxesSubplot:xlabel='time'>"
      ]
     },
     "execution_count": 109,
     "metadata": {},
     "output_type": "execute_result"
    },
    {
     "data": {
      "image/png": "[encoded data removed]",
      "text/plain": [
       "<Figure size 432x288 with 1 Axes>"
      ]
     },
     "metadata": {
      "needs_background": "light"
     },
     "output_type": "display_data"
    }
   ],
   "source": [
    "df['CAT'].plot()"
   ]
  },
  {
   "cell_type": "code",
   "execution_count": 105,
   "metadata": {},
   "outputs": [],
   "source": [
    "df.to_csv('climate_score.csv')"
   ]
  },
  {
   "cell_type": "code",
   "execution_count": 106,
   "metadata": {},
   "outputs": [
    {
     "data": {
      "text/plain": [
       "ticker\n",
       "HON      1688\n",
       "BA       1725\n",
       "CVX      2266\n",
       "MCD      2671\n",
       "UNH      2673\n",
       "NKE      2741\n",
       "WBA      2876\n",
       "MMM      3000\n",
       "HD       4144\n",
       "WMT      4518\n",
       "KO       4547\n",
       "MA       4742\n",
       "MRK      4872\n",
       "INTC     4898\n",
       "DOW      4967\n",
       "AXP      6052\n",
       "JNJ      6128\n",
       "JPM      6390\n",
       "TRV      6518\n",
       "CAT      6593\n",
       "PG       6847\n",
       "AMGN     8038\n",
       "IBM      8350\n",
       "AAPL     9005\n",
       "CSCO     9406\n",
       "MSFT     9456\n",
       "DIS     10151\n",
       "T       11314\n",
       "GS      14376\n",
       "CRM     15252\n",
       "Name: id, dtype: int64"
      ]
     },
     "execution_count": 106,
     "metadata": {},
     "output_type": "execute_result"
    }
   ],
   "source": [
    "df_tweets.groupby('ticker').count().id.sort_values()"
   ]
  },
  {
   "cell_type": "code",
   "execution_count": 107,
   "metadata": {},
   "outputs": [
    {
     "data": {
      "text/plain": [
       "(77, 30)"
      ]
     },
     "execution_count": 107,
     "metadata": {},
     "output_type": "execute_result"
    }
   ],
   "source": [
    "df.shape"
   ]
  },
  {
   "cell_type": "code",
   "execution_count": null,
   "metadata": {},
   "outputs": [],
   "source": []
  }
 ],
 "metadata": {
  "interpreter": {
   "hash": "79fabbbd37ad3894f6cfb0be2f75783fc59e43226a3dc1366dded6fba97273cc"
  },
  "kernelspec": {
   "display_name": "Python 3.10.4 ('esg-frontier')",
   "language": "python",
   "name": "python3"
  },
  "language_info": {
   "codemirror_mode": {
    "name": "ipython",
    "version": 3
   },
   "file_extension": ".py",
   "mimetype": "text/x-python",
   "name": "python",
   "nbconvert_exporter": "python",
   "pygments_lexer": "ipython3",
   "version": "3.10.4"
  },
  "orig_nbformat": 4
 },
 "nbformat": 4,
 "nbformat_minor": 2
}
