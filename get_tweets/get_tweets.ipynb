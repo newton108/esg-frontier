{
 "cells": [
  {
   "cell_type": "code",
   "execution_count": 14,
   "metadata": {},
   "outputs": [],
   "source": [
    "import pandas as pd"
   ]
  },
  {
   "cell_type": "markdown",
   "metadata": {},
   "source": [
    "# Get climated related tweets for training"
   ]
  },
  {
   "cell_type": "code",
   "execution_count": 20,
   "metadata": {},
   "outputs": [],
   "source": [
    "# query see search_positive.yaml\n",
    "# \"(#sustainability OR #green OR #environment OR #climatechange OR #Renewable OR #ClimateCrisis OR #Recycle OR #ClimateAction) lang:en -is:reply\"\n",
    "\n",
    "!search_tweets.py --credential-file .twitter_keys.yaml --credential-file-key search_tweets_search_v2 --config-file search_positive.yaml --no-print-stream"
   ]
  },
  {
   "cell_type": "markdown",
   "metadata": {},
   "source": [
    "# Get tweets for each twitter account"
   ]
  },
  {
   "cell_type": "code",
   "execution_count": 3,
   "metadata": {},
   "outputs": [],
   "source": [
    "accounts = ['ATT', 'Mastercard', 'Apple', 'Cisco', 'HomeDepot', 'Microsoft', 'Nike', 'Boeing', 'salesforce', 'Chevron', 'Walgreens', 'Merck', 'Disney', 'Amgen', 'GoldmanSachs', '3M', 'IBM', 'ProcterGamble', 'DowNewsroom', 'CaterpillarInc', 'JNJNews', 'AmericanExpress', 'Walmart', 'UnitedHealthGrp', 'CocaCola', 'jpmorgan', 'Travelers', 'honeywell', 'McDonalds', 'intel']"
   ]
  },
  {
   "cell_type": "code",
   "execution_count": 5,
   "metadata": {},
   "outputs": [],
   "source": [
    "# get tweets for each stock and save to individual json files\n",
    "def get_tweets_by_accounts(accounts, path=\"./tweets_data/\"):\n",
    "    '''\n",
    "    acounts (list of string): each element is the username for twitter account\n",
    "    path (string): path to save the .json files\n",
    "    '''\n",
    "\n",
    "    for account in accounts:\n",
    "        filename_prefix = path + account\n",
    "        query = '\\\"from:' + account + ' lang:en -is:reply\\\"'\n",
    "        !search_tweets.py --query $query --credential-file .twitter_keys.yaml --credential-file-key search_tweets_search_v2 --config-file search_stock.yaml --filename-prefix $filename_prefix --no-print-stream\n",
    "    "
   ]
  },
  {
   "cell_type": "code",
   "execution_count": 12,
   "metadata": {},
   "outputs": [],
   "source": [
    "get_tweets_by_accounts(accounts)"
   ]
  },
  {
   "cell_type": "code",
   "execution_count": null,
   "metadata": {},
   "outputs": [],
   "source": [
    "# get tweets for all stocks at once\n",
    "\n",
    "# !search_tweets.py --credential-file .twitter_keys.yaml --credential-file-key search_tweets_search_v2 --config-file search_stocks.yaml --no-print-stream"
   ]
  },
  {
   "cell_type": "code",
   "execution_count": null,
   "metadata": {},
   "outputs": [],
   "source": []
  }
 ],
 "metadata": {
  "interpreter": {
   "hash": "79fabbbd37ad3894f6cfb0be2f75783fc59e43226a3dc1366dded6fba97273cc"
  },
  "kernelspec": {
   "display_name": "Python 3.10.4 ('esg-frontier')",
   "language": "python",
   "name": "python3"
  },
  "language_info": {
   "codemirror_mode": {
    "name": "ipython",
    "version": 3
   },
   "file_extension": ".py",
   "mimetype": "text/x-python",
   "name": "python",
   "nbconvert_exporter": "python",
   "pygments_lexer": "ipython3",
   "version": "3.10.4"
  },
  "orig_nbformat": 4
 },
 "nbformat": 4,
 "nbformat_minor": 2
}
