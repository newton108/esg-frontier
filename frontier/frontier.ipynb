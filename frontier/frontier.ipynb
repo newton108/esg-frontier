{
 "cells": [
  {
   "cell_type": "code",
   "execution_count": 1,
   "metadata": {},
   "outputs": [],
   "source": [
    "import pandas as pd\n",
    "import numpy as np\n",
    "import seaborn as sns"
   ]
  },
  {
   "cell_type": "code",
   "execution_count": 261,
   "metadata": {},
   "outputs": [],
   "source": [
    "bm_df = pd.read_csv('bm.csv')\n",
    "ret_df = pd.read_csv('ret.csv')\n",
    "esg_df = pd.read_csv('../climate_score.csv').fillna(0)\n",
    "msci_df = pd.read_csv('esgset.csv')\n",
    "\n",
    "bm = bm_df.iloc[:, 1:].to_numpy(dtype=float)\n",
    "ret = ret_df.iloc[:, 1:].to_numpy(dtype=float)\n",
    "esg = esg_df.iloc[:-5, 1:].to_numpy(dtype=float)\n",
    "msci = msci_df.iloc[:, 1:].to_numpy(dtype=float)"
   ]
  },
  {
   "cell_type": "code",
   "execution_count": 263,
   "metadata": {},
   "outputs": [],
   "source": [
    "def z_score(mat):\n",
    "    '''\n",
    "    mat (2-D np.array)\n",
    "    returns: cross sectional z-score (across columns)\n",
    "    '''\n",
    "    (num_periods, num_stocks) = mat.shape\n",
    "\n",
    "\n",
    "    for t in range(num_periods):\n",
    "        m = mat[t, :].mean()\n",
    "        s = mat[t, :].std()\n",
    "        mat[t, :] = (mat[t, :] - m) / s\n",
    "\n",
    "    return mat\n",
    "\n",
    "bm = z_score(bm)\n",
    "esg = z_score(esg)\n",
    "msci = z_score(msci)"
   ]
  },
  {
   "cell_type": "code",
   "execution_count": 262,
   "metadata": {},
   "outputs": [
    {
     "data": {
      "text/plain": [
       "((72, 30), (72, 30), (72, 30), (72, 30))"
      ]
     },
     "execution_count": 262,
     "metadata": {},
     "output_type": "execute_result"
    }
   ],
   "source": [
    "bm.shape, ret.shape, esg.shape, msci.shape"
   ]
  },
  {
   "cell_type": "code",
   "execution_count": 410,
   "metadata": {},
   "outputs": [],
   "source": [
    "def c_ab(a, sigma, b):\n",
    "    # avoid numerical error and make sure inv(sigma) is positive definite\n",
    "    if np.amin(np.linalg.eigvals(sigma)) < 0:\n",
    "        sigma += np.eye(*sigma.shape) * 1e-12\n",
    "\n",
    "    assert np.amin(np.linalg.eigvals(sigma)) > 0\n",
    "\n",
    "    return a @ np.linalg.inv(sigma) @ b\n",
    "\n",
    "def sr(s_bar, mu, sigma, s):\n",
    "    '''\n",
    "    s_bar (scaler): fixed portfolio average esg score\n",
    "    mu (1-D array): mu[i] is the return of stock i\n",
    "    sigma (2-D array): covariance matrix of returns\n",
    "    s (1-D array): s[i] is the esg scores of stock i\n",
    "    '''\n",
    "\n",
    "    one = np.ones((len(mu)))\n",
    "\n",
    "    sr_sq = c_ab(mu, sigma, mu) - (c_ab(s, sigma, mu) - s_bar * c_ab(one, sigma, mu)) ** 2 / (c_ab(s, sigma, s) - 2 * s_bar * c_ab(one, sigma, s) + s_bar ** 2 * c_ab(one, sigma, one))\n",
    "\n",
    "\n",
    "    # print((np.amin(np.linalg.eigvals(sigma)), sr_sq))\n",
    "    # print(mu, sigma)\n",
    "    # print(c_ab(mu, sigma, mu), c_ab(s, sigma, mu), c_ab(one, sigma, mu))\n",
    "    assert sr_sq >= 0\n",
    "\n",
    "\n",
    "    return np.sqrt(sr_sq)\n",
    "\n",
    "def opt_port(s_bar, mu, sigma, s):\n",
    "    '''\n",
    "    return: 1-D array\n",
    "    '''\n",
    "    # avoid numerical error and make sure inv(sigma) is positive definite\n",
    "    if np.amin(np.linalg.eigvals(sigma)) < 0:\n",
    "        sigma += np.eye(*sigma.shape) * 1e-12\n",
    "        \n",
    "    gamma = 1\n",
    "    one = np.ones((len(mu)))\n",
    "    pi =  (c_ab(one, sigma, mu) * s_bar - c_ab(s, sigma, mu)) / (c_ab(s, sigma, s) - 2 * c_ab(one, sigma, s) * s_bar + c_ab(one, sigma, one) * s_bar ** 2)\n",
    "    x = np.linalg.inv(sigma) @ (mu + pi * (s - one * s_bar)) / gamma\n",
    "    return x.reshape((len(mu)))\n",
    "\n",
    "\n",
    "\n"
   ]
  },
  {
   "cell_type": "code",
   "execution_count": 454,
   "metadata": {},
   "outputs": [],
   "source": [
    "def ret_est(ret, bm, esg=None, simple_method=True):\n",
    "    '''\n",
    "\n",
    "    bm (shape = (num_periods, num_stocks)): bm[t, i] is the book-to-market ratio of stock i at time t\n",
    "    esg (shape = (num_periods, num_stocks)): esg[t, i] is the esg score of stock i at time t\n",
    "    ret (shape = (num_periods, num_stocks)): ret[t, i] is the return of stock i from time t - 1 to t\n",
    "    esg: (shape = (num_periods, num_stocks)): leave it out for unaware investors\n",
    "    simple_method: use the simple method (constant factor premium) if True, or time-varying risk if False\n",
    "\n",
    "    returns: np.array with shape = (num_periods - 1, num_stocks)\n",
    "    '''\n",
    "    num_periods, num_stocks = ret.shape\n",
    "    num_factors = 2 if esg is None else 3 # type U factors: [const, bm]; type A factors: [const, bm, esg]\n",
    "\n",
    "\n",
    "    # bm = (bm - np.mean(bm, axis = 1)) / np.std(bm, axis=1)\n",
    "\n",
    "    # E_t(r_{t+1})\n",
    "    exp_ret = np.zeros((num_periods - 1, num_stocks))\n",
    "\n",
    "    # E_t(F_{t+1})\n",
    "    exp_factor_premium = np.zeros((num_periods - 1, num_factors))\n",
    "\n",
    "    f_hat = np.zeros((num_periods - 1, num_factors))\n",
    "\n",
    "    for t in range(num_periods - 1):\n",
    "\n",
    "\n",
    "        x = np.ones((num_stocks, num_factors))\n",
    "\n",
    "        if esg is None:\n",
    "            x[:, 1:] = np.array([bm[t, :]]).T\n",
    "        else:\n",
    "            x[:, 1:] = np.array([bm[t, :], esg[t, :]]).T\n",
    "\n",
    "        sigma = np.eye(num_stocks)\n",
    "\n",
    "        theta = np.linalg.inv(x.T @ np.linalg.inv(sigma) @ x) @ x.T @ np.linalg.inv(sigma)\n",
    "\n",
    "        # =========================================\n",
    "        # ret_hat = x @ theta @ ret[t + 1, :]\n",
    "        # res = ret[t + 1, :] - ret_hat\n",
    "\n",
    "        # sigma = np.eye(num_stocks) * np.var(res)\n",
    "\n",
    "        # if np.amin(np.linalg.eigvals(sigma)) < 0:\n",
    "        #     sigma += np.eye(*sigma.shape) * 1e-12\n",
    "            \n",
    "        # theta_gls = np.linalg.inv(x.T @ np.linalg.inv(sigma) @ x) @ x.T @ np.linalg.inv(sigma)\n",
    "        # theta = theta_gls\n",
    "        #==========================================\n",
    "\n",
    "        f_hat[t, :] = theta @ ret[t + 1, :]\n",
    "\n",
    "        if simple_method:\n",
    "            # E_t(F_{t+1}) = (f_hat_{t0} + ... f_hat_{t}) / (t-t0) : not allowed to use information of ret[t+1, :]\n",
    "\n",
    "            # t0 = 0\n",
    "            t0 = max([0, t - num_periods // 5])\n",
    "            exp_factor_premium[t, :] = np.mean(f_hat[t0:t, :], axis=0) # recall t is not inclusive in indexing\n",
    "            \n",
    "\n",
    "        else:\n",
    "            \n",
    "            sigma_f = np.zeros(num_factors)\n",
    "\n",
    "            sigma_stocks = np.cov(ret[:t, :].T)\n",
    "            # sigma_stocks = sigma\n",
    "\n",
    "            for k in range(num_factors):\n",
    "                \n",
    "                sigma_f[k] = np.sqrt(theta[k, :] @ sigma_stocks @ theta[k, :].T)\n",
    "            \n",
    "\n",
    "            sr_f = np.mean(f_hat[:t, :], axis=0) / np.std(f_hat[:t, :], axis=0)\n",
    "\n",
    "            exp_factor_premium[t, :] = sigma_f * sr_f\n",
    "            \n",
    "\n",
    "        exp_ret[t, :] = x @ exp_factor_premium[t, :]\n",
    "\n",
    "    if simple_method:\n",
    "        return exp_ret[1:, :]\n",
    "    else:\n",
    "        return exp_ret[2:, :]"
   ]
  },
  {
   "cell_type": "code",
   "execution_count": 455,
   "metadata": {},
   "outputs": [],
   "source": [
    "def plot_frontier(ret, bm, esg, ante, aware=False, simple_method=True):\n",
    "    '''\n",
    "    ret: realized returns\n",
    "    bm: bm ratio\n",
    "    esg: esg score\n",
    "    '''\n",
    "\n",
    "\n",
    "\n",
    "    # last n periods used to draw the curves\n",
    "    num_curves = 10\n",
    "    n_grid = 100\n",
    "\n",
    "    # s_bar_min is the maximum (lowest esg score at time t) over all t\n",
    "    s_bar_min, s_bar_max = -5, 15\n",
    "    # s_bar_min, s_bar_max = np.amax(np.amin(esg[-num_curves:, :], axis=1)), np.amin(np.amax(esg[-num_curves:, :], axis=1))\n",
    "\n",
    "\n",
    "    if not aware:\n",
    "        # exp_ret[t, :] is the E_t(r_{t+1})\n",
    "        exp_ret = ret_est(ret, bm, simple_method=simple_method)\n",
    "    else:\n",
    "        exp_ret = ret_est(ret, bm, esg, simple_method=simple_method)\n",
    "\n",
    "\n",
    "    s = esg\n",
    "    \n",
    "    num_periods, num_stocks = exp_ret.shape\n",
    "\n",
    "    s_bar = np.linspace(s_bar_min, s_bar_max, n_grid)\n",
    "    sr_ante = np.zeros((num_periods, n_grid))\n",
    "    sr_post = np.zeros((num_periods, n_grid))\n",
    "    x = np.zeros((num_periods, num_stocks))\n",
    "\n",
    "    start_date = num_periods - num_curves\n",
    "\n",
    "\n",
    "    num_frontiers_ante = num_periods - start_date\n",
    "    num_frontiers_post = num_frontiers_ante - 1\n",
    "\n",
    "    for i in range(n_grid):\n",
    "        for t in range(start_date, num_periods): # estimation of sigma is way off for t small\n",
    "            sigma_t = np.cov(ret[:t+1, :].T) # sigma estimated using realized returns from time 0 to t\n",
    "            mu_t_ante = exp_ret[t, :]\n",
    "\n",
    "            sr_ante[t, i] = sr(s_bar[i], mu_t_ante, sigma_t, s[t])\n",
    "\n",
    "\n",
    "            x[t, :] = opt_port(s_bar[i], mu_t_ante, sigma_t, s[t])\n",
    "\n",
    "            if t > start_date:\n",
    "                x_last = x[t-1, :]\n",
    "\n",
    "                mu_t_post = ret[t, :]\n",
    "                sr_post[t, i] = np.dot(x_last, mu_t_post) / np.sqrt(x_last @ sigma_t @ x_last)\n",
    "\n",
    "\n",
    "\n",
    "    sr_ante_avg = sr_ante.sum(axis=0) / num_frontiers_ante\n",
    "    sr_post_avg = sr_post.sum(axis=0) / num_frontiers_post\n",
    "    if ante:\n",
    "        return sns.lineplot(s_bar, sr_ante_avg)\n",
    "    else:\n",
    "        return sns.lineplot(s_bar, sr_post_avg)\n",
    "\n",
    "\n"
   ]
  },
  {
   "cell_type": "code",
   "execution_count": 459,
   "metadata": {},
   "outputs": [
    {
     "name": "stderr",
     "output_type": "stream",
     "text": [
      "/Users/joe/miniconda3/envs/esg-frontier/lib/python3.10/site-packages/numpy/core/fromnumeric.py:3474: RuntimeWarning: Mean of empty slice.\n",
      "  return _methods._mean(a, axis=axis, dtype=dtype,\n",
      "/Users/joe/miniconda3/envs/esg-frontier/lib/python3.10/site-packages/numpy/core/_methods.py:181: RuntimeWarning: invalid value encountered in true_divide\n",
      "  ret = um.true_divide(\n",
      "/Users/joe/miniconda3/envs/esg-frontier/lib/python3.10/site-packages/seaborn/_decorators.py:36: FutureWarning: Pass the following variables as keyword args: x, y. From version 0.12, the only valid positional argument will be `data`, and passing other arguments without an explicit keyword will result in an error or misinterpretation.\n",
      "  warnings.warn(\n",
      "/Users/joe/miniconda3/envs/esg-frontier/lib/python3.10/site-packages/numpy/core/fromnumeric.py:3474: RuntimeWarning: Mean of empty slice.\n",
      "  return _methods._mean(a, axis=axis, dtype=dtype,\n",
      "/Users/joe/miniconda3/envs/esg-frontier/lib/python3.10/site-packages/numpy/core/_methods.py:181: RuntimeWarning: invalid value encountered in true_divide\n",
      "  ret = um.true_divide(\n",
      "/Users/joe/miniconda3/envs/esg-frontier/lib/python3.10/site-packages/seaborn/_decorators.py:36: FutureWarning: Pass the following variables as keyword args: x, y. From version 0.12, the only valid positional argument will be `data`, and passing other arguments without an explicit keyword will result in an error or misinterpretation.\n",
      "  warnings.warn(\n"
     ]
    },
    {
     "data": {
      "text/plain": [
       "<AxesSubplot:>"
      ]
     },
     "execution_count": 459,
     "metadata": {},
     "output_type": "execute_result"
    },
    {
     "data": {
      "image/png": "[encoded data removed]",
      "text/plain": [
       "<Figure size 432x288 with 1 Axes>"
      ]
     },
     "metadata": {
      "needs_background": "light"
     },
     "output_type": "display_data"
    }
   ],
   "source": [
    "plot_frontier(ret, bm, msci, ante = True, aware=False)\n",
    "plot_frontier(ret, bm, msci, ante = True, aware=True)"
   ]
  },
  {
   "cell_type": "code",
   "execution_count": 457,
   "metadata": {},
   "outputs": [
    {
     "name": "stderr",
     "output_type": "stream",
     "text": [
      "/Users/joe/miniconda3/envs/esg-frontier/lib/python3.10/site-packages/numpy/core/fromnumeric.py:3474: RuntimeWarning: Mean of empty slice.\n",
      "  return _methods._mean(a, axis=axis, dtype=dtype,\n",
      "/Users/joe/miniconda3/envs/esg-frontier/lib/python3.10/site-packages/numpy/core/_methods.py:181: RuntimeWarning: invalid value encountered in true_divide\n",
      "  ret = um.true_divide(\n",
      "/Users/joe/miniconda3/envs/esg-frontier/lib/python3.10/site-packages/seaborn/_decorators.py:36: FutureWarning: Pass the following variables as keyword args: x, y. From version 0.12, the only valid positional argument will be `data`, and passing other arguments without an explicit keyword will result in an error or misinterpretation.\n",
      "  warnings.warn(\n",
      "/Users/joe/miniconda3/envs/esg-frontier/lib/python3.10/site-packages/numpy/core/fromnumeric.py:3474: RuntimeWarning: Mean of empty slice.\n",
      "  return _methods._mean(a, axis=axis, dtype=dtype,\n",
      "/Users/joe/miniconda3/envs/esg-frontier/lib/python3.10/site-packages/numpy/core/_methods.py:181: RuntimeWarning: invalid value encountered in true_divide\n",
      "  ret = um.true_divide(\n",
      "/Users/joe/miniconda3/envs/esg-frontier/lib/python3.10/site-packages/seaborn/_decorators.py:36: FutureWarning: Pass the following variables as keyword args: x, y. From version 0.12, the only valid positional argument will be `data`, and passing other arguments without an explicit keyword will result in an error or misinterpretation.\n",
      "  warnings.warn(\n"
     ]
    },
    {
     "data": {
      "text/plain": [
       "<AxesSubplot:>"
      ]
     },
     "execution_count": 457,
     "metadata": {},
     "output_type": "execute_result"
    },
    {
     "data": {
      "image/png": "[encoded data removed]",
      "text/plain": [
       "<Figure size 432x288 with 1 Axes>"
      ]
     },
     "metadata": {
      "needs_background": "light"
     },
     "output_type": "display_data"
    }
   ],
   "source": [
    "plot_frontier(ret, bm, msci, ante = False, aware=False)\n",
    "plot_frontier(ret, bm, msci, ante = False, aware=True)"
   ]
  },
  {
   "cell_type": "code",
   "execution_count": 350,
   "metadata": {},
   "outputs": [
    {
     "data": {
      "text/plain": [
       "array([[1., 0., 0.],\n",
       "       [0., 1., 0.],\n",
       "       [0., 0., 1.]])"
      ]
     },
     "execution_count": 350,
     "metadata": {},
     "output_type": "execute_result"
    }
   ],
   "source": [
    "np.eye(3)"
   ]
  },
  {
   "cell_type": "code",
   "execution_count": null,
   "metadata": {},
   "outputs": [],
   "source": []
  }
 ],
 "metadata": {
  "kernelspec": {
   "display_name": "Python 3.10.4 ('esg-frontier')",
   "language": "python",
   "name": "python3"
  },
  "language_info": {
   "codemirror_mode": {
    "name": "ipython",
    "version": 3
   },
   "file_extension": ".py",
   "mimetype": "text/x-python",
   "name": "python",
   "nbconvert_exporter": "python",
   "pygments_lexer": "ipython3",
   "version": "3.10.4"
  },
  "orig_nbformat": 4,
  "vscode": {
   "interpreter": {
    "hash": "79fabbbd37ad3894f6cfb0be2f75783fc59e43226a3dc1366dded6fba97273cc"
   }
  }
 },
 "nbformat": 4,
 "nbformat_minor": 2
}
